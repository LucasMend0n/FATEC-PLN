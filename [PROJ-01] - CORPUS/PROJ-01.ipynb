{
  "cells": [
    {
      "cell_type": "markdown",
      "metadata": {
        "id": "C09kW4L5OlwG"
      },
      "source": [
        "# Projeto 01 - Análise Quantitativa de Corpus"
      ]
    },
    {
      "cell_type": "markdown",
      "metadata": {
        "id": "BX_kCoZvOs-B"
      },
      "source": [
        "## Início do processamento do corpus"
      ]
    },
    {
      "cell_type": "code",
      "execution_count": 1,
      "metadata": {
        "colab": {
          "base_uri": "https://localhost:8080/"
        },
        "id": "pEXddz0cOwyA",
        "outputId": "574de850-30b9-4cb6-8130-cff24a5eeeb7"
      },
      "outputs": [
        {
          "name": "stdout",
          "output_type": "stream",
          "text": [
            "219833\n"
          ]
        }
      ],
      "source": [
        "def ler(nome_arquivo):\n",
        "  arquivo = open(nome_arquivo,'r', encoding='utf-8')\n",
        "  conteudo_arq = arquivo.read()\n",
        "  arquivo.close()\n",
        "  return conteudo_arq\n",
        "\n",
        "texto = ler('/content/Ubirajara.txt')\n",
        "print(len(texto))\n"
      ]
    },
    {
      "cell_type": "markdown",
      "metadata": {
        "id": "Lj974MVhPala"
      },
      "source": [
        "## Primeira Etapa - Buscador de palavras"
      ]
    },
    {
      "cell_type": "code",
      "execution_count": null,
      "metadata": {
        "colab": {
          "base_uri": "https://localhost:8080/"
        },
        "id": "LLLZ5h4tPeO-",
        "outputId": "a7886e4e-e54e-4826-e820-3c57167956af"
      },
      "outputs": [],
      "source": [
        "def buscador(alvo, texto):\n",
        "  texto = texto.replace('\\n', ' ')\n",
        "  texto = texto.replace('\\t', ' ')\n",
        "\n",
        "  ocorrencias = []\n",
        "  encontrado_aqui = texto.find(alvo, 0)\n",
        "\n",
        "  while encontrado_aqui > 0:\n",
        "    pos_inicial = encontrado_aqui - (40 - len(alvo))\n",
        "    trecho = texto[pos_inicial: pos_inicial + 80]\n",
        "\n",
        "    ocorrencias.append(trecho)\n",
        "\n",
        "    encontrado_aqui = texto.find(alvo, encontrado_aqui + 1)\n",
        "\n",
        "  return ocorrencias\n",
        "\n",
        "resultados = buscador('peito', texto)\n",
        "for trecho in resultados:\n",
        "  print(trecho)\n"
      ]
    },
    {
      "cell_type": "markdown",
      "metadata": {
        "id": "Pwmb2gl1PhbW"
      },
      "source": [
        "## Segunda Etapa - Limpeza dos Corpus"
      ]
    },
    {
      "cell_type": "code",
      "execution_count": 3,
      "metadata": {
        "colab": {
          "base_uri": "https://localhost:8080/"
        },
        "id": "00TWbZQEPg36",
        "outputId": "24d3f8ea-9cc6-4d5a-ad82-4f26a42a0336"
      },
      "outputs": [
        {
          "name": "stdout",
          "output_type": "stream",
          "text": [
            "37139\n",
            "36585\n"
          ]
        }
      ],
      "source": [
        "palavras = texto.split()\n",
        "\n",
        "def limpar(lista):\n",
        "  lixo = '.,:;?!\"`()[]{}/\\|@#$%\"&*-'\n",
        "  quase_limpo = [x.strip(lixo).lower() for x in lista]\n",
        "  return [x for x in quase_limpo if x.isalpha() or '-' not in x]\n",
        "\n",
        "print(len(palavras))\n",
        "palavras = limpar(palavras)\n",
        "print(len(palavras))"
      ]
    },
    {
      "cell_type": "markdown",
      "metadata": {
        "id": "8Cv2PLatPnaa"
      },
      "source": [
        "## Quantidade de Palavras"
      ]
    },
    {
      "cell_type": "code",
      "execution_count": 4,
      "metadata": {
        "colab": {
          "base_uri": "https://localhost:8080/"
        },
        "id": "t4tlks6MPp_6",
        "outputId": "58525d0c-2d3e-4eb7-9d22-83cd076319a2"
      },
      "outputs": [
        {
          "data": {
            "text/plain": [
              "6901"
            ]
          },
          "execution_count": 4,
          "metadata": {},
          "output_type": "execute_result"
        }
      ],
      "source": [
        "vocabulario = set(palavras)\n",
        "len(vocabulario)"
      ]
    },
    {
      "cell_type": "code",
      "execution_count": 5,
      "metadata": {
        "colab": {
          "base_uri": "https://localhost:8080/"
        },
        "id": "jECQSDgaP56O",
        "outputId": "2f43a48a-3f9f-43f9-9392-c1c9b42bf8be"
      },
      "outputs": [
        {
          "name": "stdout",
          "output_type": "stream",
          "text": [
            "0.1886292196255296\n"
          ]
        }
      ],
      "source": [
        "# Riqueza textual\n",
        "riqueza = len(vocabulario) / len(palavras)\n",
        "print(riqueza)"
      ]
    },
    {
      "cell_type": "code",
      "execution_count": 6,
      "metadata": {
        "id": "USmJXbbsP7ME"
      },
      "outputs": [],
      "source": [
        "# Dicionario do texto\n",
        "from collections import defaultdict\n",
        "\n",
        "def ocorrencias (lista_palavras):\n",
        "  dicionario = defaultdict(int)\n",
        "  for p in lista_palavras:\n",
        "    dicionario[p] += 1\n",
        "\n",
        "  return dicionario\n"
      ]
    },
    {
      "cell_type": "code",
      "execution_count": 7,
      "metadata": {
        "colab": {
          "base_uri": "https://localhost:8080/"
        },
        "id": "6k49rXlrP_dr",
        "outputId": "fbd4b987-79ca-4de7-9894-9eb569d3e41c"
      },
      "outputs": [
        {
          "name": "stdout",
          "output_type": "stream",
          "text": [
            "a \t 1491\n",
            "o \t 1398\n",
            "de \t 1199\n",
            "que \t 1119\n",
            "e \t 918\n",
            "do \t 685\n",
            "da \t 624\n",
            "os \t 496\n",
            "para \t 347\n",
            "não \t 340\n",
            "dos \t 327\n",
            "se \t 295\n",
            "as \t 266\n",
            "como \t 243\n",
            "guerreiro \t 238\n",
            "um \t 229\n",
            "seu \t 215\n",
            "em \t 213\n",
            "na \t 205\n",
            "mais \t 205\n",
            "é \t 200\n",
            "sua \t 197\n",
            "no \t 195\n",
            "com \t 195\n",
            "ao \t 190\n",
            " \t 189\n",
            "the \t 188\n",
            "á \t 186\n",
            "chefe \t 175\n",
            "ubirajara \t 174\n",
            "guerreiros \t 171\n",
            "uma \t 165\n",
            "por \t 158\n",
            "grande \t 155\n",
            "elle \t 152\n",
            "mas \t 140\n",
            "nação \t 129\n",
            "quando \t 125\n",
            "of \t 122\n",
            "das \t 115\n",
            "era \t 113\n",
            "itaquê \t 113\n",
            "seus \t 98\n",
            "pela \t 93\n",
            "virjem \t 91\n",
            "espoza \t 87\n",
            "arací \t 87\n",
            "paj \t 86\n",
            "project \t 83\n",
            "to \t 82\n"
          ]
        }
      ],
      "source": [
        "dic = ocorrencias(palavras)\n",
        "mf = sorted(dic.items(), key=lambda tupla:tupla[1], reverse = True)[:50]\n",
        "for palavra, n in mf:\n",
        "    print(palavra, '\\t', n)"
      ]
    },
    {
      "cell_type": "code",
      "execution_count": null,
      "metadata": {
        "colab": {
          "base_uri": "https://localhost:8080/"
        },
        "id": "K-pY5xKwQCmA",
        "outputId": "d86bd614-e6f1-479c-97f9-2c91ab240906"
      },
      "outputs": [],
      "source": [
        "import nltk\n",
        "nltk.download('stopwords')\n",
        "vazias = nltk.corpus.stopwords.words('portuguese')"
      ]
    },
    {
      "cell_type": "code",
      "execution_count": 9,
      "metadata": {
        "colab": {
          "base_uri": "https://localhost:8080/"
        },
        "id": "7hIrNRJrQHNf",
        "outputId": "cc3ab0a2-98e7-4f14-9e59-36fbb4435990"
      },
      "outputs": [
        {
          "data": {
            "text/plain": [
              "[('guerreiro', 238),\n",
              " ('', 189),\n",
              " ('the', 188),\n",
              " ('á', 186),\n",
              " ('chefe', 175),\n",
              " ('ubirajara', 174),\n",
              " ('guerreiros', 171),\n",
              " ('grande', 155),\n",
              " ('elle', 152),\n",
              " ('nação', 129),\n",
              " ('of', 122),\n",
              " ('itaquê', 113),\n",
              " ('virjem', 91),\n",
              " ('espoza', 87),\n",
              " ('arací', 87),\n",
              " ('paj', 86),\n",
              " ('project', 83),\n",
              " ('to', 82)]"
            ]
          },
          "execution_count": 9,
          "metadata": {},
          "output_type": "execute_result"
        }
      ],
      "source": [
        "frequentes_plenas = [x for x in mf if x[0].lower() not in vazias]\n",
        "frequentes_plenas"
      ]
    }
  ],
  "metadata": {
    "colab": {
      "provenance": []
    },
    "kernelspec": {
      "display_name": "Python 3",
      "name": "python3"
    },
    "language_info": {
      "name": "python"
    }
  },
  "nbformat": 4,
  "nbformat_minor": 0
}
