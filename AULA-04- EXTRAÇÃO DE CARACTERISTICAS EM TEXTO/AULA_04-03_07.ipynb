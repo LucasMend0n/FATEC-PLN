{
  "cells": [
    {
      "cell_type": "markdown",
      "metadata": {
        "id": "bLQ64tRabTBL"
      },
      "source": [
        "# Aula 4"
      ]
    },
    {
      "cell_type": "markdown",
      "metadata": {
        "id": "1MY7aYm1bgU4"
      },
      "source": [
        "## 1. BOW"
      ]
    },
    {
      "cell_type": "code",
      "execution_count": 1,
      "metadata": {
        "colab": {
          "base_uri": "https://localhost:8080/"
        },
        "id": "SdpHlQcgbiLX",
        "outputId": "fe6874ed-6386-4709-978b-427550baf95b"
      },
      "outputs": [
        {
          "name": "stdout",
          "output_type": "stream",
          "text": [
            "Vocabulario: {'gato': 3, 'cachorro': 1, 'brinca': 0, 'com': 2, 'rato': 4}\n",
            "Matriz BoW:\n",
            "[[0 1 0 1 0]\n",
            " [1 1 1 1 0]\n",
            " [0 0 0 1 1]]\n"
          ]
        }
      ],
      "source": [
        "# importando a ferramenta que irá criar a representação numérica\n",
        "from sklearn. feature_extraction.text import CountVectorizer\n",
        "\n",
        "# criando um corpus de documentos que será usado para criação do vocabulário\n",
        "documentos = [\n",
        "  \"gato e cachorro\",\n",
        "  \"gato brinca com cachorro\",\n",
        "  \"gato e rato\"\n",
        "]\n",
        "\n",
        "# Criando um objeto para ser utilizado: transformar os documentos em vetores\n",
        "vectorizer = CountVectorizer()\n",
        "\n",
        "# Criando a matriz de contagem\n",
        "X = vectorizer. fit_transform(documentos)\n",
        "# fit >>> cria um vocabulário das palavras\n",
        "# transforme >>> conta a frequencia de cada palavra no corpus\n",
        "\n",
        "# Imprimindo a Matriz e o Vocabulário gerado\n",
        "print(f\"Vocabulario: {vectorizer. vocabulary_}\")\n",
        "# realiza o mapeamento do vocabulário para um índice da matriz\n",
        "\n",
        "print(\"Matriz BoW:\")\n",
        "print (X. toarray())\n",
        "# mostra a frequencia de cada palavra dentro da matriz"
      ]
    },
    {
      "cell_type": "markdown",
      "metadata": {
        "id": "535AtdwgbtRy"
      },
      "source": [
        "## 2. BOW com TF-IDF"
      ]
    },
    {
      "cell_type": "code",
      "execution_count": 2,
      "metadata": {
        "colab": {
          "base_uri": "https://localhost:8080/"
        },
        "id": "08RLD5uvbwO3",
        "outputId": "cc434b83-0ea2-4c6c-af1b-f75175824554"
      },
      "outputs": [
        {
          "name": "stdout",
          "output_type": "stream",
          "text": [
            "Vocabulario BoW: {'cachorro': 2, 'gosta': 9, 'de': 4, 'passear': 12, 'no': 10, 'parque': 11, 'gato': 7, 'dorme': 6, 'sofá': 15, 'dia': 5, 'todo': 16, 'cachorros': 3, 'gatos': 8, 'podem': 13, 'ser': 14, 'bons': 1, 'amigos': 0}\n",
            "Matriz BoW:\n",
            "[[0 0 1 0 1 0 0 0 0 1 1 1 1 0 0 0 0]\n",
            " [0 0 0 0 0 1 1 1 0 0 1 0 0 0 0 1 1]\n",
            " [1 1 0 1 0 0 0 0 1 0 0 0 0 1 1 0 0]]\n",
            "\n",
            "Vocabulario TF-IDF: {'cachorro': 2, 'gosta': 9, 'de': 4, 'passear': 12, 'no': 10, 'parque': 11, 'gato': 7, 'dorme': 6, 'sofá': 15, 'dia': 5, 'todo': 16, 'cachorros': 3, 'gatos': 8, 'podem': 13, 'ser': 14, 'bons': 1, 'amigos': 0}\n",
            "Matriz TF-IDF\n",
            "[[0.         0.         0.42339448 0.         0.42339448 0.\n",
            "  0.         0.         0.         0.42339448 0.32200242 0.42339448\n",
            "  0.42339448 0.         0.         0.         0.        ]\n",
            " [0.         0.         0.         0.         0.         0.42339448\n",
            "  0.42339448 0.42339448 0.         0.         0.32200242 0.\n",
            "  0.         0.         0.         0.42339448 0.42339448]\n",
            " [0.40824829 0.40824829 0.         0.40824829 0.         0.\n",
            "  0.         0.         0.40824829 0.         0.         0.\n",
            "  0.         0.40824829 0.40824829 0.         0.        ]]\n"
          ]
        }
      ],
      "source": [
        "# Importando as Bibliotecas\n",
        "from sklearn.feature_extraction.text import CountVectorizer\n",
        "# classe que transforma os documentos em vetores e realiza a contagem de frequencia\n",
        "from sklearn.feature_extraction.text import TfidfVectorizer\n",
        "# Classe que transforma os documentos em vetores e uma contagem de frequencia ponderada\n",
        "\n",
        "# Definindo o corpus\n",
        "documentos = [\n",
        "  \"O cachorro gosta de passear no parque\",\n",
        "  \"O gato dorme no sofá o dia todo\",\n",
        "  \"Cachorros e gatos podem ser bons amigos\"\n",
        "]\n",
        "\n",
        "#. Criando.o.modelo.BoW\n",
        "vectorizer_bow = CountVectorizer()\n",
        "# Instanciamento da classe em objeto para ser usado\n",
        "x_bow = vectorizer_bow.fit_transform(documentos)\n",
        "# fit >>> realizar a transformação do vocabulário\n",
        "# transform >> transforma cada vetor em um documento com a contagem de frequência\n",
        "\n",
        "# Imprimindo o Vocabulário e a Matriz\n",
        "print(f\"Vocabulario BoW: {vectorizer_bow. vocabulary_}\")\n",
        "print(\"Matriz BoW:\")\n",
        "print(x_bow.toarray())\n",
        "\n",
        "# Criando um modelo TF-IDF\n",
        "vectorizer_tfidf = TfidfVectorizer()\n",
        "# realiza a instanciação da classe em objeto\n",
        "x_tfidf = vectorizer_tfidf.fit_transform(documentos)\n",
        "# fit >>> realizar a transformacao do vocabulario\n",
        "# transform >> transforma cada vetor em um documento com a contagem de frequência ponderada\n",
        "\n",
        "# Imprimindo o Vocabulário e a Matriz TF-IDF\n",
        "print(f\"\\nVocabulario TF-IDF: {vectorizer_tfidf.vocabulary_}\")\n",
        "print(\"Matriz TF-IDF\")\n",
        "print(x_tfidf.toarray())"
      ]
    },
    {
      "cell_type": "markdown",
      "metadata": {
        "id": "avmFFoXob5a2"
      },
      "source": [
        "## 3. Word Embbeding utilizando Word2Vec"
      ]
    },
    {
      "cell_type": "code",
      "execution_count": 2,
      "metadata": {
        "colab": {
          "base_uri": "https://localhost:8080/"
        },
        "id": "hpwLELBJb8Ss",
        "outputId": "3eee28fb-dda0-4860-9983-7696c54b5a6c"
      },
      "outputs": [
        {
          "name": "stdout",
          "output_type": "stream",
          "text": [
            "Similaridade entre 'cachorro' e 'gato':  -0.0446171\n"
          ]
        }
      ],
      "source": [
        "# Importação a Biblioteca\n",
        "from gensim.models import Word2Vec\n",
        "\n",
        "\n",
        "# criação do Corpus\n",
        "corpus = [\n",
        "[\"o\",\"cachorro\",\"está\",\"dormindo\"],\n",
        "[\"o\",\"gato\",\"está\",\"dormindo\"]\n",
        "\n",
        "]\n",
        "\n",
        "# Criando o modelo de vetor\n",
        "model = Word2Vec(sentences=corpus, vector_size=100, window=5, min_count=1,sg=1)\n",
        "# sentences = define o texto a ser transformado em vetor\n",
        "# vector_size = define a dimensão dos vetores que representarão as palavras\n",
        "# window = define a janela de contexto. considera as palavras antes e as palavras depois no alvo para aprender\n",
        "# min_count = ignora as palavras que aparecer 1 vez no corpus\n",
        "# indica o modelo utilizado\n",
        "# 1 = skip_gram;\n",
        "# 0 = CBOW\n",
        "\n",
        "# obtem o vetor da palavra\n",
        "vector = model.wv['cachorro']\n",
        "\n",
        "# calcula a similaridade de duas palavras\n",
        "similarity = model.wv.similarity('cachorro','gato')\n",
        "# similaridade cosseno, qt mais próximo de 1, maior similaridade\n",
        "\n",
        "print(\"Similaridade entre 'cachorro' e 'gato': \", similarity)"
      ]
    },
    {
      "cell_type": "code",
      "execution_count": 3,
      "metadata": {
        "colab": {
          "base_uri": "https://localhost:8080/"
        },
        "id": "CtnNCKOAdVGz",
        "outputId": "35f59481-eb06-4d46-b56c-64e6d2e75beb"
      },
      "outputs": [
        {
          "name": "stdout",
          "output_type": "stream",
          "text": [
            "Similaridade entre cachorro e gato: 0.004977396689355373\n",
            "Similaridade entre cachorro e bola: -0.08383868634700775\n",
            "Similaridade entre céu e lua: 0.013849331066012383\n",
            "Similaridade entre computador e mesa: -0.0018980697495862842\n"
          ]
        }
      ],
      "source": [
        "from gensim.models import Word2Vec\n",
        "\n",
        "corpus = [\n",
        "  [\"o\", \"cachorro\", \"está\", \"latindo\", \"no\", \"quintal\"],\n",
        "  [\"o\", \"gato\", \"está\", \"miando\", \"no\", \"telhado\"],\n",
        "  [\"o\", \"pássaro\", \"está\", \"voando\", \"no\", \"céu\",'lua'],\n",
        "  [\"a\", \"bola\", \"está\", \"rolando\", \"no\", \"chão\"],\n",
        "  [\"a\", \"criança\", \"está\", \"brincando\", \"com\", \"o\", \"cachorro\"],\n",
        "  [\"o\", \"gato\", \"e\", \"o\", \"rato\", \"são\", \"inimigos\"],\n",
        "  [\"a\", \"água\", \"está\", \"quente\", \"na\", \"caneca\"],\n",
        "  [\"o\", \"sol\", \"está\", \"brilhando\", \"no\", \"céu\"],\n",
        "  [\"a\", \"lua\", \"está\", \"cheia\", \"hoje\",'no' , 'céu' ],\n",
        "  [\"a\", \"computador\", \"está\", \"ligado\", \"na\", \"mesa\"],\n",
        "  ['a','lua' ,'esta' , 'no' , 'ceu', 'lua' , 'bonita' ]\n",
        "]\n",
        "\n",
        "model = Word2Vec(sentences=corpus, vector_size=100, window=5, min_count=1, sg=1)\n",
        "\n",
        "print(f\"Similaridade entre cachorro e gato: {model.wv.similarity('cachorro', 'gato' ) }\")\n",
        "print(f\"Similaridade entre cachorro e bola: {model.wv.similarity('cachorro', 'bola' ) }\")\n",
        "print(f\"Similaridade entre céu e lua: {model.wv.similarity('ceu', 'lua' ) }\")\n",
        "print(f\"Similaridade entre computador e mesa: {model.wv.similarity('computador', 'mesa' ) }\")"
      ]
    }
  ],
  "metadata": {
    "colab": {
      "provenance": []
    },
    "kernelspec": {
      "display_name": "Python 3",
      "name": "python3"
    },
    "language_info": {
      "name": "python"
    }
  },
  "nbformat": 4,
  "nbformat_minor": 0
}
